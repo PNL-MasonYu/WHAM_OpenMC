{
 "cells": [
  {
   "cell_type": "code",
   "execution_count": 1,
   "metadata": {},
   "outputs": [],
   "source": [
    "from analysis import *\n",
    "\n",
    "statepoint_name = \"statepoint.100-naturalLi-5cmPb-1x60cmbeam.h5\"\n",
    "plot_dir = \"./plots/\"+statepoint_name.split(\".\")[1]\n",
    "if not os.path.isdir(plot_dir):\n",
    "    os.mkdir(plot_dir)\n",
    "sp = openmc.StatePoint(\"./\" + statepoint_name, autolink=True)    "
   ]
  },
  {
   "cell_type": "code",
   "execution_count": 2,
   "metadata": {},
   "outputs": [],
   "source": [
    "# Cat DD 10 MW\n",
    "#source_rate = 3e18\n",
    "#source_power = source_rate*1.6022e-13*42.5/2\n",
    "\n",
    "# DT 10 MW\n",
    "source_rate = 3.55e18\n",
    "source_power = source_rate*1.6022e-13*17.6\n",
    "\n",
    "source_rate_title = \"{:.1e} Source ({:.1e} W DT Power)\\n\".format(source_rate, source_power)\n",
    "subtitle = \"Natural Li, 5 cm Pb Multiplier; 60 cm ID NBI\"\n",
    "# Setting up the plot parameters\n",
    "plot_width = 275\n",
    "#plot_height = 640\n",
    "plot_height = 260*4\n",
    "mesh_shape = (260, 275, 275)\n",
    "extent=(-plot_width, plot_width, 0, plot_height)\n",
    "\n",
    "from_save = False"
   ]
  },
  {
   "cell_type": "code",
   "execution_count": null,
   "metadata": {},
   "outputs": [],
   "source": [
    "if not from_save:\n",
    "    background_image = plot_background(plot_width, plot_height, plot_dir)\n",
    "else:\n",
    "    background_image = plt.imread('./background.png')"
   ]
  },
  {
   "cell_type": "code",
   "execution_count": null,
   "metadata": {},
   "outputs": [],
   "source": [
    "plot_neutron_source(\"statepoint.100-all-vacuum.h5\", source_rate, mesh_shape, background_image, extent)"
   ]
  },
  {
   "cell_type": "code",
   "execution_count": null,
   "metadata": {},
   "outputs": [],
   "source": [
    "plot_flux_energy(sp, source_rate, source_rate_title, subtitle, plot_dir, cell=6000)"
   ]
  },
  {
   "cell_type": "code",
   "execution_count": 3,
   "metadata": {},
   "outputs": [
    {
     "name": "stdout",
     "output_type": "stream",
     "text": [
      "tritium production by Li-6:\n",
      "   cell nuclide   score            mean       std. dev.\n",
      "0  6000     K39  (n,Xt) 0.000000000e+00 0.000000000e+00\n",
      "1  6000    Cl35  (n,Xt) 0.000000000e+00 0.000000000e+00\n",
      "2  6000    Cl37  (n,Xt) 0.000000000e+00 0.000000000e+00\n",
      "3  6000     Li6  (n,Xt) 1.288702360e+00 5.786684932e-05\n",
      "4  6000     Li7  (n,Xt) 2.178346844e-01 2.237088635e-05\n"
     ]
    }
   ],
   "source": [
    "get_tbr(sp, \"Breeder misc reaction\")\n",
    "#get_np(sp)"
   ]
  },
  {
   "cell_type": "code",
   "execution_count": null,
   "metadata": {},
   "outputs": [],
   "source": [
    "#get_absorption_all(sp)"
   ]
  },
  {
   "cell_type": "code",
   "execution_count": null,
   "metadata": {},
   "outputs": [],
   "source": [
    "plot_flux_heat_breed()"
   ]
  },
  {
   "cell_type": "code",
   "execution_count": null,
   "metadata": {},
   "outputs": [],
   "source": [
    "#plot_fast_flux(sp)\n",
    "plot_result(sp, tally_name = 'fast flux', tally_score = 'flux', mesh_dims = mesh_shape, save_aggregate = True, im_cmap = 'Spectral_r', \n",
    "            contour_lvl = np.logspace(9, 16, 12), plot_extent = extent, m_factor=source_rate/8, background=background_image, nuclide_dim=None,\n",
    "            clabel = 'Fast neutron flux $[n/cm^2-s]$', title = 'Fast Flux (>100 keV)\\n'+ source_rate_title + subtitle, savedir=plot_dir, from_file=from_save)"
   ]
  },
  {
   "cell_type": "code",
   "execution_count": null,
   "metadata": {},
   "outputs": [],
   "source": [
    "#plot_fast_flux(sp)\n",
    "%matplotlib widget\n",
    "plot_result(sp, tally_name = 'fast flux', tally_score = 'flux', mesh_dims = mesh_shape, save_aggregate = True, im_cmap = 'Spectral_r', \n",
    "            contour_lvl = np.logspace(7, 14, 12), plot_extent = extent, m_factor=source_rate/8, background=background_image,\n",
    "            clabel = 'Fast neutron flux $[n/cm^2-s]$', title = 'Fast Flux (>100 keV)\\n'+ source_rate_title + subtitle, savedir=plot_dir, from_file=True)"
   ]
  },
  {
   "cell_type": "code",
   "execution_count": null,
   "metadata": {},
   "outputs": [],
   "source": [
    "#plot_photon_flux(sp)\n",
    "plot_result(sp, tally_name = 'photon flux', tally_score = 'flux', mesh_dims = mesh_shape, save_aggregate = True, im_cmap = 'viridis',\n",
    "            contour_lvl = np.logspace(8, 15, 12), plot_extent = extent, m_factor=source_rate/8, background=background_image,\n",
    "            clabel = 'Photon flux $[\\gamma/cm^2-s]$', title = 'Photon Flux\\n'+ source_rate_title + subtitle, savedir=plot_dir, from_file=from_save)"
   ]
  },
  {
   "cell_type": "code",
   "execution_count": null,
   "metadata": {},
   "outputs": [],
   "source": [
    "#plot_damage_energy(sp)\n",
    "plot_result(sp, tally_name = 'neutron damage_energy', tally_score = 'damage-energy', mesh_dims = mesh_shape, save_aggregate = True, im_cmap = 'Spectral_r',\n",
    "            contour_lvl = np.logspace(8, 15, 12), plot_extent = extent, m_factor=source_rate/8, background=background_image,\n",
    "            clabel = 'Neutron Damage Energy $[eV/s]$', title = ' Neutron Damage Energy Rate\\n'+ source_rate_title + subtitle, savedir=plot_dir, from_file=from_save)"
   ]
  },
  {
   "cell_type": "code",
   "execution_count": null,
   "metadata": {},
   "outputs": [],
   "source": [
    "#plot_total_heat(sp)\n",
    "plot_result(sp, tally_name = \"neutron heat load\", tally_score = 'heating', mesh_dims = mesh_shape, save_aggregate = True, im_cmap = 'afmhot',\n",
    "            contour_lvl = np.logspace(-3, 1, 10), plot_extent = extent, m_factor= source_rate*1.602e-19/8, background=background_image,\n",
    "            clabel = 'Total Nuclear Heating $[W/cm^3]$', title = 'Neutron Nuclear Heating with Gamma\\n'+ source_rate_title + subtitle, savedir=plot_dir, from_file=from_save)"
   ]
  },
  {
   "cell_type": "code",
   "execution_count": null,
   "metadata": {},
   "outputs": [],
   "source": [
    "#plot_thermal_flux(sp)"
   ]
  },
  {
   "cell_type": "code",
   "execution_count": null,
   "metadata": {},
   "outputs": [],
   "source": [
    "#plot_epithermal_flux(sp)\n",
    "plot_result(sp, tally_name = \"epithermal flux\", tally_score = 'flux', mesh_dims = mesh_shape, save_aggregate = True, im_cmap = 'Spectral_r',\n",
    "            contour_lvl = np.logspace(10, 17, 16), plot_extent = extent, m_factor= source_rate/8, background=background_image,\n",
    "            clabel = 'Epithermal neutron flux $[n/cm^2-s]$', title = 'Epithermal Flux (0.5 eV - 100 keV)\\n'+ source_rate_title + subtitle, savedir=plot_dir, from_file=from_save)"
   ]
  },
  {
   "cell_type": "code",
   "execution_count": null,
   "metadata": {},
   "outputs": [],
   "source": [
    "#plot_absorption(sp)\n",
    "plot_result(sp, tally_name = \"neutron absorption\", tally_score = 'absorption', mesh_dims = mesh_shape, save_aggregate = True, im_cmap = 'viridis',\n",
    "            contour_lvl = np.logspace(9, 19, 14), plot_extent = extent, m_factor= source_rate/8, background=background_image,\n",
    "            clabel = 'Neutron absorption $[n/cm^3-s]$', title = 'Neutron Absorption\\n'+ source_rate_title + subtitle, savedir=plot_dir, from_file=from_save)"
   ]
  },
  {
   "cell_type": "code",
   "execution_count": null,
   "metadata": {},
   "outputs": [],
   "source": [
    "#plot_result(sp, tally_name = \"neutron damage_energy\", tally_score = 'damage-energy', mesh_dims = mesh_shape, save_aggregate = True, im_cmap = 'viridis',\n",
    "#            contour_lvl = np.logspace(13, 19, 10), plot_extent = extent, m_factor= source_rate, background=background_image,\n",
    "#            clabel = 'Neutron Damage Energy $[eV/s]$', title = 'Neutron Damage Energy Rate\\n'+ source_rate_title + subtitle, savedir=plot_dir, from_file=from_save)"
   ]
  },
  {
   "cell_type": "code",
   "execution_count": null,
   "metadata": {},
   "outputs": [],
   "source": [
    "plot_result(sp, tally_name = \"neutron damage_energy\", tally_score = 'damage-energy', mesh_dims = mesh_shape, save_aggregate = True, im_cmap = 'viridis', nuclide_dim=None,\n",
    "            contour_lvl = np.logspace(-3, 1, 10), plot_extent = extent, m_factor= source_rate*0.8/(2*40)*3600*24*365/(16*4.29129535/(55.845*1.66054E-24)), background=background_image,\n",
    "            clabel = 'Neutron DPA Rate $[DPA]$', title = 'Neutron DPA Rate\\n'+ source_rate_title + subtitle, savedir=plot_dir, from_file=from_save),"
   ]
  },
  {
   "cell_type": "code",
   "execution_count": null,
   "metadata": {},
   "outputs": [],
   "source": [
    "#plot_coil_flux_energy(sp)"
   ]
  },
  {
   "cell_type": "code",
   "execution_count": null,
   "metadata": {},
   "outputs": [],
   "source": [
    "#plot_multiplying_flux(sp)\n",
    "#plot_result(sp, tally_name = \"Pb multiplying flux\", tally_score = 'flux', mesh_dims = mesh_shape, save_aggregate = True, im_cmap = 'plasma',\n",
    "#            contour_lvl = np.logspace(5, 15, 14), plot_extent = extent, m_factor= source_rate/8, background=background_image,\n",
    "#            clabel = 'Fast neutron flux $[n/cm^2-s]$', title = 'Fast Neutron Flux > 5 MeV for Multiplication\\n'+ source_rate_title + subtitle, savedir=plot_dir, from_file=from_save)"
   ]
  },
  {
   "cell_type": "code",
   "execution_count": null,
   "metadata": {},
   "outputs": [],
   "source": [
    "plot_result(sp, tally_name = \"Breeder mesh\", tally_score = '(n,Xt)', mesh_dims = np.concatenate((mesh_shape, [2])), save_aggregate = True, im_cmap = 'plasma',\n",
    "            contour_lvl = np.logspace(8, 14, 14), plot_extent = extent, m_factor= source_rate/8, nuclide_dim=0, background=background_image,\n",
    "            clabel = '(n, Xt) rate $[1/cm^3-s]$', title = '(n, Xt) Breeding Sites\\n'+ source_rate_title + subtitle, savedir=plot_dir, from_file=from_save)"
   ]
  },
  {
   "cell_type": "code",
   "execution_count": null,
   "metadata": {},
   "outputs": [],
   "source": [
    "#plot_n2n(sp)\n",
    "plot_result(sp, tally_name = \"Multiplier mesh\", tally_score = '(n,2n)', mesh_dims = mesh_shape, save_aggregate = True, im_cmap = 'gnuplot',\n",
    "            contour_lvl = np.logspace(6, 13, 14), plot_extent = extent, m_factor= source_rate/8,  background=background_image,\n",
    "            clabel = '(n, 2n) rate $[1/cm^3-s]$', title = '(n, 2n) Multiplication Sites\\n'+ source_rate_title + subtitle, savedir=plot_dir, from_file=from_save)"
   ]
  },
  {
   "cell_type": "code",
   "execution_count": null,
   "metadata": {},
   "outputs": [],
   "source": [
    "#plot_np(sp)\n",
    "#plot_result(sp, tally_name = \"Breeder mesh\", tally_score = '(n,p)', mesh_dims = np.concatenate((mesh_shape, [3])), save_aggregate = True, im_cmap = 'gist_stern',\n",
    "#            contour_lvl = np.logspace(6, 13, 14), plot_extent = extent, m_factor= source_rate/8, nuclide_dim=1, background=background_image,\n",
    "#            clabel = '(n, p) rate $[1/cm^3-s]$', title = '(n, p) Reaction Sites\\n'+ source_rate_title + subtitle, savedir=plot_dir, from_file=from_save)"
   ]
  },
  {
   "cell_type": "code",
   "execution_count": null,
   "metadata": {},
   "outputs": [],
   "source": [
    "plot_result(sp, tally_name = \"neutron absorption\", tally_score = 'absorption', mesh_dims = mesh_shape, save_aggregate = True, im_cmap = 'jet',\n",
    "            contour_lvl = np.logspace(7, 13, 14), plot_extent = extent, m_factor= source_rate/8, background=background_image,\n",
    "            clabel = 'Neutron Absorption $[n/cm^3-s]$', title = ' Neutron Absorption\\n'+ source_rate_title + subtitle, savedir=plot_dir, from_file=from_save)"
   ]
  },
  {
   "cell_type": "code",
   "execution_count": null,
   "metadata": {},
   "outputs": [],
   "source": [
    "plot_result(sp, tally_name = \"neutron radiative capture\", tally_score = '(n,gamma)', mesh_dims = mesh_shape, save_aggregate = True, im_cmap = 'CMRmap',\n",
    "            contour_lvl = np.logspace(7, 13, 14), plot_extent = extent, m_factor= source_rate/8, background=background_image,\n",
    "            clabel = 'Neutron radiative capture $[n/cm^3-s]$', title = ' Neutron Radiative Capture\\n'+ source_rate_title + subtitle, savedir=plot_dir, from_file=from_save)"
   ]
  }
 ],
 "metadata": {
  "kernelspec": {
   "display_name": "Python 3.7.6 ('base')",
   "language": "python",
   "name": "python3"
  },
  "language_info": {
   "codemirror_mode": {
    "name": "ipython",
    "version": 3
   },
   "file_extension": ".py",
   "mimetype": "text/x-python",
   "name": "python",
   "nbconvert_exporter": "python",
   "pygments_lexer": "ipython3",
   "version": "3.9.15"
  },
  "orig_nbformat": 4,
  "vscode": {
   "interpreter": {
    "hash": "cef674fc89fd397a452861922208d9282746a3ae6aaf6e47d276096260412ede"
   }
  }
 },
 "nbformat": 4,
 "nbformat_minor": 2
}
